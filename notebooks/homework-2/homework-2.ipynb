{
 "cells": [
  {
   "cell_type": "code",
   "execution_count": null,
   "metadata": {},
   "outputs": [],
   "source": []
  },
  {
   "attachments": {},
   "cell_type": "markdown",
   "metadata": {},
   "source": [
    "# Homework 2\n",
    "\n",
    "The goal of this homework is to get familiar with tools like MLflow for experiment tracking and model management.\n",
    "\n",
    "See [questions](https://github.com/DataTalksClub/mlops-zoomcamp/blob/main/cohorts/2023/02-experiment-tracking/homework.md)."
   ]
  },
  {
   "attachments": {},
   "cell_type": "markdown",
   "metadata": {},
   "source": [
    "## Q1. Install the package"
   ]
  },
  {
   "attachments": {},
   "cell_type": "markdown",
   "metadata": {},
   "source": [
    "On your local terminal, run the following commands to create a new conda environment.\n",
    "\n",
    "```bash\n",
    "cd ~/github/mlops-zoomcamp-2023/notebooks  # Change this for your folder.\n",
    "conda create -n mlops-zoomcamp-env python=3.9\n",
    "conda activate mlops-zoomcamp-env\n",
    "pip install mlflow jupyter scikit-learn pandas seaborn hyperopt xgboost fastparquet boto3\n",
    "```\n",
    "\n",
    "From the same folder, open VS Code from the terminal with this command.\n",
    "\n",
    "```bash\n",
    "code .\n",
    "```\n",
    "\n",
    "Then, in the notebook, select the `mlops-zoomcamp-env` kernel.\n"
   ]
  },
  {
   "cell_type": "code",
   "execution_count": 35,
   "metadata": {},
   "outputs": [
    {
     "name": "stdout",
     "output_type": "stream",
     "text": [
      "2.3.2\n"
     ]
    }
   ],
   "source": [
    "import mlflow\n",
    "\n",
    "print(mlflow.__version__)"
   ]
  },
  {
   "attachments": {},
   "cell_type": "markdown",
   "metadata": {},
   "source": [
    "## Q2. Download and preprocess the data\n",
    "\n",
    "Download the data for January, February and March 2022 in parquet format from [here](https://www1.nyc.gov/site/tlc/about/tlc-trip-record-data.page)."
   ]
  },
  {
   "cell_type": "code",
   "execution_count": 36,
   "metadata": {},
   "outputs": [
    {
     "name": "stdout",
     "output_type": "stream",
     "text": [
      "--2023-05-30 15:14:44--  https://d37ci6vzurychx.cloudfront.net/trip-data/green_tripdata_2022-01.parquet\n",
      "Résolution de d37ci6vzurychx.cloudfront.net (d37ci6vzurychx.cloudfront.net)… 13.225.189.130, 13.225.189.87, 13.225.189.178, ...\n",
      "Connexion à d37ci6vzurychx.cloudfront.net (d37ci6vzurychx.cloudfront.net)|13.225.189.130|:443… connecté.\n",
      "requête HTTP transmise, en attente de la réponse… 200 OK\n",
      "Taille : 1254291 (1,2M) [binary/octet-stream]\n",
      "Sauvegarde en : « /Users/boisalai/data/green_tripdata_2022-01.parquet.1 »\n",
      "\n",
      "green_tripdata_2022 100%[===================>]   1,20M  --.-KB/s    ds 0,1s    \n",
      "\n",
      "2023-05-30 15:14:44 (9,65 MB/s) — « /Users/boisalai/data/green_tripdata_2022-01.parquet.1 » sauvegardé [1254291/1254291]\n",
      "\n",
      "--2023-05-30 15:14:44--  https://d37ci6vzurychx.cloudfront.net/trip-data/green_tripdata_2022-02.parquet\n",
      "Résolution de d37ci6vzurychx.cloudfront.net (d37ci6vzurychx.cloudfront.net)… 13.225.189.130, 13.225.189.87, 13.225.189.178, ...\n",
      "Connexion à d37ci6vzurychx.cloudfront.net (d37ci6vzurychx.cloudfront.net)|13.225.189.130|:443… connecté.\n",
      "requête HTTP transmise, en attente de la réponse… 200 OK\n",
      "Taille : 1428262 (1,4M) [binary/octet-stream]\n",
      "Sauvegarde en : « /Users/boisalai/data/green_tripdata_2022-02.parquet.1 »\n",
      "\n",
      "green_tripdata_2022 100%[===================>]   1,36M  --.-KB/s    ds 0,1s    \n",
      "\n",
      "2023-05-30 15:14:45 (10,7 MB/s) — « /Users/boisalai/data/green_tripdata_2022-02.parquet.1 » sauvegardé [1428262/1428262]\n",
      "\n",
      "--2023-05-30 15:14:45--  https://d37ci6vzurychx.cloudfront.net/trip-data/green_tripdata_2022-03.parquet\n",
      "Résolution de d37ci6vzurychx.cloudfront.net (d37ci6vzurychx.cloudfront.net)… 13.225.189.130, 13.225.189.87, 13.225.189.178, ...\n",
      "Connexion à d37ci6vzurychx.cloudfront.net (d37ci6vzurychx.cloudfront.net)|13.225.189.130|:443… connecté.\n",
      "requête HTTP transmise, en attente de la réponse… 200 OK\n",
      "Taille : 1615562 (1,5M) [binary/octet-stream]\n",
      "Sauvegarde en : « /Users/boisalai/data/green_tripdata_2022-03.parquet.1 »\n",
      "\n",
      "green_tripdata_2022 100%[===================>]   1,54M  --.-KB/s    ds 0,1s    \n",
      "\n",
      "2023-05-30 15:14:45 (11,8 MB/s) — « /Users/boisalai/data/green_tripdata_2022-03.parquet.1 » sauvegardé [1615562/1615562]\n",
      "\n"
     ]
    }
   ],
   "source": [
    "!wget -P ~/data https://d37ci6vzurychx.cloudfront.net/trip-data/green_tripdata_2022-01.parquet\n",
    "!wget -P ~/data https://d37ci6vzurychx.cloudfront.net/trip-data/green_tripdata_2022-02.parquet\n",
    "!wget -P ~/data https://d37ci6vzurychx.cloudfront.net/trip-data/green_tripdata_2022-03.parquet"
   ]
  },
  {
   "attachments": {},
   "cell_type": "markdown",
   "metadata": {},
   "source": [
    "Use the script `preprocess_data.py` located in the folder homework to preprocess the data."
   ]
  },
  {
   "cell_type": "code",
   "execution_count": 37,
   "metadata": {},
   "outputs": [],
   "source": [
    "!python preprocess_data.py --raw_data_path ~/data --dest_path ./output"
   ]
  },
  {
   "attachments": {},
   "cell_type": "markdown",
   "metadata": {},
   "source": [
    "What's the size of the saved `DictVectorizer` file?"
   ]
  },
  {
   "cell_type": "code",
   "execution_count": 38,
   "metadata": {},
   "outputs": [
    {
     "name": "stdout",
     "output_type": "stream",
     "text": [
      "os.stat_result(st_mode=33188, st_ino=60199724, st_dev=16777231, st_nlink=1, st_uid=501, st_gid=20, st_size=153660, st_atime=1685468066, st_mtime=1685474087, st_ctime=1685474087)\n",
      "File size is 153660 bytes, 150.1 kB, 0.147 MB.\n"
     ]
    }
   ],
   "source": [
    "import os\n",
    "\n",
    "file_name = \"./output/dv.pkl\"\n",
    "file_stats = os.stat(file_name)\n",
    "\n",
    "print(file_stats)\n",
    "print(f\"File size is {file_stats.st_size} bytes, {file_stats.st_size / 1024:.1f} kB, {file_stats.st_size / (1024 * 1024):.3f} MB.\")"
   ]
  },
  {
   "attachments": {},
   "cell_type": "markdown",
   "metadata": {},
   "source": [
    "## Q3. Train a model with autolog\n",
    "\n",
    "Our task is to modify the script to enable autologging with MLflow, execute the script and then launch the MLflow UI to check that the experiment run was properly tracked.\n",
    "\n",
    "So see the script `train.py` modified. \n",
    "\n",
    "Execute the script with the following command."
   ]
  },
  {
   "cell_type": "code",
   "execution_count": 43,
   "metadata": {},
   "outputs": [
    {
     "name": "stdout",
     "output_type": "stream",
     "text": [
      "2023/05/30 15:23:08 WARNING mlflow.utils.autologging_utils: MLflow autologging encountered a warning: \"/Users/boisalai/miniconda3/envs/mlops-zoomcamp-env/lib/python3.9/site-packages/_distutils_hack/__init__.py:33: UserWarning: Setuptools is replacing distutils.\"\n"
     ]
    }
   ],
   "source": [
    "!python train.py --data_path ./output\n"
   ]
  },
  {
   "attachments": {},
   "cell_type": "markdown",
   "metadata": {},
   "source": [
    "Launch the MLflow UI to check that the experiment run was ptoperly tracked."
   ]
  },
  {
   "cell_type": "code",
   "execution_count": 44,
   "metadata": {},
   "outputs": [
    {
     "name": "stdout",
     "output_type": "stream",
     "text": [
      "[2023-05-30 15:23:56 -0400] [7264] [INFO] Starting gunicorn 20.1.0\n",
      "[2023-05-30 15:23:56 -0400] [7264] [INFO] Listening at: http://127.0.0.1:5000 (7264)\n",
      "[2023-05-30 15:23:56 -0400] [7264] [INFO] Using worker: sync\n",
      "[2023-05-30 15:23:56 -0400] [7265] [INFO] Booting worker with pid: 7265\n",
      "[2023-05-30 15:23:56 -0400] [7266] [INFO] Booting worker with pid: 7266\n",
      "[2023-05-30 15:23:56 -0400] [7267] [INFO] Booting worker with pid: 7267\n",
      "[2023-05-30 15:23:56 -0400] [7268] [INFO] Booting worker with pid: 7268\n",
      "^C\n",
      "[2023-05-30 15:24:30 -0400] [7264] [INFO] Handling signal: int\n",
      "[2023-05-30 15:24:30 -0400] [7265] [INFO] Worker exiting (pid: 7265)\n",
      "[2023-05-30 15:24:30 -0400] [7266] [INFO] Worker exiting (pid: 7266)\n",
      "[2023-05-30 15:24:30 -0400] [7268] [INFO] Worker exiting (pid: 7268)\n",
      "[2023-05-30 15:24:30 -0400] [7267] [INFO] Worker exiting (pid: 7267)\n"
     ]
    }
   ],
   "source": [
    "!mlflow ui"
   ]
  },
  {
   "attachments": {},
   "cell_type": "markdown",
   "metadata": {},
   "source": [
    "What is the value of the `max_depth` parameter?"
   ]
  },
  {
   "cell_type": "code",
   "execution_count": 40,
   "metadata": {},
   "outputs": [
    {
     "name": "stdout",
     "output_type": "stream",
     "text": [
      "Hyperparameters for run 086e10c841bf40d2803a1c5a78aa1cd9: {'bootstrap': 'True', 'max_depth': '10', 'max_samples': 'None', 'min_weight_fraction_leaf': '0.0', 'max_leaf_nodes': 'None', 'min_samples_leaf': '1', 'random_state': '0', 'min_impurity_decrease': '0.0', 'verbose': '0', 'n_estimators': '100', 'criterion': 'squared_error', 'oob_score': 'False', 'ccp_alpha': '0.0', 'warm_start': 'False', 'max_features': '1.0', 'n_jobs': 'None', 'min_samples_split': '2'}\n",
      "max_depth for run 086e10c841bf40d2803a1c5a78aa1cd9: 10\n",
      "Hyperparameters for run 7a84350b10c942918dffdb2d8b3a0756: {'bootstrap': 'True', 'max_depth': '10', 'max_samples': 'None', 'min_weight_fraction_leaf': '0.0', 'max_leaf_nodes': 'None', 'min_samples_leaf': '1', 'random_state': '0', 'min_impurity_decrease': '0.0', 'verbose': '0', 'n_estimators': '100', 'criterion': 'squared_error', 'oob_score': 'False', 'ccp_alpha': '0.0', 'warm_start': 'False', 'max_features': '1.0', 'n_jobs': 'None', 'min_samples_split': '2'}\n",
      "max_depth for run 7a84350b10c942918dffdb2d8b3a0756: 10\n",
      "Hyperparameters for run 30356ad21f9e475898ab8d7798a8424e: {'bootstrap': 'True', 'max_depth': '10', 'max_samples': 'None', 'min_weight_fraction_leaf': '0.0', 'max_leaf_nodes': 'None', 'min_samples_leaf': '1', 'random_state': '0', 'min_impurity_decrease': '0.0', 'verbose': '0', 'n_estimators': '100', 'criterion': 'squared_error', 'oob_score': 'False', 'ccp_alpha': '0.0', 'warm_start': 'False', 'max_features': '1.0', 'n_jobs': 'None', 'min_samples_split': '2'}\n",
      "max_depth for run 30356ad21f9e475898ab8d7798a8424e: 10\n"
     ]
    }
   ],
   "source": [
    "import mlflow\n",
    "from mlflow.tracking import MlflowClient\n",
    "\n",
    "client = MlflowClient()\n",
    "\n",
    "# Retrieve the experiment ID from its name.\n",
    "experiment_name = \"random-forest\"\n",
    "experiment = client.get_experiment_by_name(experiment_name)\n",
    "experiment_id = experiment.experiment_id\n",
    "\n",
    "# Retrieve information about the runs in the experiment.\n",
    "runs = client.search_runs(experiment_ids=[experiment_id])\n",
    "for run in runs:\n",
    "    run_id = run.info.run_id\n",
    "    params = client.get_run(run_id).data.params\n",
    "    print(f\"Hyperparameters for run {run_id}: {params}\")\n",
    "    max_depth = params.get(\"max_depth\")\n",
    "    print(f\"max_depth for run {run_id}: {max_depth}\")"
   ]
  },
  {
   "attachments": {},
   "cell_type": "markdown",
   "metadata": {},
   "source": [
    "## Launch the tracking server locally for MLflow\n",
    "\n",
    "Now we want to manage the entire lifecycle of our ML model. In this step, you'll need to launch a tracking server. This way we will also have access to the model registry.\n",
    "\n",
    "In case of MLflow, you need to:\n",
    "\n",
    "* launch the tracking server on your local machine,\n",
    "* select a SQLite db for the backend store and a folder called artifacts for the artifacts store.\n",
    "\n",
    "You should keep the tracking server running to work on the next three exercises that use the server."
   ]
  },
  {
   "attachments": {},
   "cell_type": "markdown",
   "metadata": {},
   "source": [
    "Run the following commands in the terminal to launch the MLflow UI with a sqlite backend store.\n",
    "\n",
    "```bash\n",
    "cd ~/github/mlops-zoomcamp-2023/notebooks\n",
    "mlflow ui --backend-store-uri sqlite:///mlflow.db\n",
    "```"
   ]
  },
  {
   "attachments": {},
   "cell_type": "markdown",
   "metadata": {},
   "source": [
    "Install Optuna."
   ]
  },
  {
   "cell_type": "code",
   "execution_count": 45,
   "metadata": {},
   "outputs": [
    {
     "name": "stdout",
     "output_type": "stream",
     "text": [
      "Collecting optuna\n",
      "  Downloading optuna-3.2.0-py3-none-any.whl (390 kB)\n",
      "\u001b[2K     \u001b[90m━━━━━━━━━━━━━━━━━━━━━━━━━━━━━━━━━━━━━━━\u001b[0m \u001b[32m390.6/390.6 kB\u001b[0m \u001b[31m5.2 MB/s\u001b[0m eta \u001b[36m0:00:00\u001b[0ma \u001b[36m0:00:01\u001b[0m\n",
      "\u001b[?25hRequirement already satisfied: packaging>=20.0 in /Users/boisalai/miniconda3/envs/mlops-zoomcamp-env/lib/python3.9/site-packages (from optuna) (23.1)\n",
      "Requirement already satisfied: PyYAML in /Users/boisalai/miniconda3/envs/mlops-zoomcamp-env/lib/python3.9/site-packages (from optuna) (6.0)\n",
      "Collecting cmaes>=0.9.1\n",
      "  Using cached cmaes-0.9.1-py3-none-any.whl (21 kB)\n",
      "Requirement already satisfied: tqdm in /Users/boisalai/.local/lib/python3.9/site-packages (from optuna) (4.64.1)\n",
      "Requirement already satisfied: sqlalchemy>=1.3.0 in /Users/boisalai/miniconda3/envs/mlops-zoomcamp-env/lib/python3.9/site-packages (from optuna) (2.0.15)\n",
      "Requirement already satisfied: numpy in /Users/boisalai/miniconda3/envs/mlops-zoomcamp-env/lib/python3.9/site-packages (from optuna) (1.24.3)\n",
      "Requirement already satisfied: alembic>=1.5.0 in /Users/boisalai/miniconda3/envs/mlops-zoomcamp-env/lib/python3.9/site-packages (from optuna) (1.11.1)\n",
      "Collecting colorlog\n",
      "  Using cached colorlog-6.7.0-py2.py3-none-any.whl (11 kB)\n",
      "Requirement already satisfied: Mako in /Users/boisalai/miniconda3/envs/mlops-zoomcamp-env/lib/python3.9/site-packages (from alembic>=1.5.0->optuna) (1.2.4)\n",
      "Requirement already satisfied: typing-extensions>=4 in /Users/boisalai/miniconda3/envs/mlops-zoomcamp-env/lib/python3.9/site-packages (from alembic>=1.5.0->optuna) (4.6.2)\n",
      "Requirement already satisfied: MarkupSafe>=0.9.2 in /Users/boisalai/miniconda3/envs/mlops-zoomcamp-env/lib/python3.9/site-packages (from Mako->alembic>=1.5.0->optuna) (2.1.2)\n",
      "Installing collected packages: colorlog, cmaes, optuna\n",
      "Successfully installed cmaes-0.9.1 colorlog-6.7.0 optuna-3.2.0\n"
     ]
    }
   ],
   "source": [
    "!pip install optuna"
   ]
  },
  {
   "attachments": {},
   "cell_type": "markdown",
   "metadata": {},
   "source": [
    "## Q4. Tune model hyperparameters"
   ]
  },
  {
   "cell_type": "code",
   "execution_count": 47,
   "metadata": {},
   "outputs": [
    {
     "name": "stdout",
     "output_type": "stream",
     "text": [
      "2023/05/30 15:48:09 INFO mlflow.tracking.fluent: Experiment with name 'random-forest-hyperopt' does not exist. Creating a new experiment.\n",
      "\u001b[32m[I 2023-05-30 15:48:09,181]\u001b[0m A new study created in memory with name: no-name-bb14162d-fe0d-468a-899a-66f7c3ae0746\u001b[0m\n",
      "\u001b[32m[I 2023-05-30 15:48:10,005]\u001b[0m Trial 0 finished with value: 2.451379690825458 and parameters: {'n_estimators': 25, 'max_depth': 20, 'min_samples_split': 8, 'min_samples_leaf': 3}. Best is trial 0 with value: 2.451379690825458.\u001b[0m\n",
      "\u001b[32m[I 2023-05-30 15:48:10,073]\u001b[0m Trial 1 finished with value: 2.4667366020368333 and parameters: {'n_estimators': 16, 'max_depth': 4, 'min_samples_split': 2, 'min_samples_leaf': 4}. Best is trial 0 with value: 2.451379690825458.\u001b[0m\n",
      "\u001b[32m[I 2023-05-30 15:48:10,470]\u001b[0m Trial 2 finished with value: 2.449827329704216 and parameters: {'n_estimators': 34, 'max_depth': 15, 'min_samples_split': 2, 'min_samples_leaf': 4}. Best is trial 2 with value: 2.449827329704216.\u001b[0m\n",
      "\u001b[32m[I 2023-05-30 15:48:10,631]\u001b[0m Trial 3 finished with value: 2.460983516558473 and parameters: {'n_estimators': 44, 'max_depth': 5, 'min_samples_split': 3, 'min_samples_leaf': 1}. Best is trial 2 with value: 2.449827329704216.\u001b[0m\n",
      "\u001b[32m[I 2023-05-30 15:48:10,825]\u001b[0m Trial 4 finished with value: 2.453877262701052 and parameters: {'n_estimators': 22, 'max_depth': 11, 'min_samples_split': 5, 'min_samples_leaf': 2}. Best is trial 2 with value: 2.449827329704216.\u001b[0m\n",
      "\u001b[32m[I 2023-05-30 15:48:10,920]\u001b[0m Trial 5 finished with value: 2.4720122094960733 and parameters: {'n_estimators': 35, 'max_depth': 3, 'min_samples_split': 4, 'min_samples_leaf': 2}. Best is trial 2 with value: 2.449827329704216.\u001b[0m\n",
      "\u001b[32m[I 2023-05-30 15:48:11,269]\u001b[0m Trial 6 finished with value: 2.4516421799356767 and parameters: {'n_estimators': 28, 'max_depth': 16, 'min_samples_split': 3, 'min_samples_leaf': 3}. Best is trial 2 with value: 2.449827329704216.\u001b[0m\n",
      "\u001b[32m[I 2023-05-30 15:48:11,333]\u001b[0m Trial 7 finished with value: 2.5374040268274087 and parameters: {'n_estimators': 34, 'max_depth': 1, 'min_samples_split': 7, 'min_samples_leaf': 1}. Best is trial 2 with value: 2.449827329704216.\u001b[0m\n",
      "\u001b[32m[I 2023-05-30 15:48:11,591]\u001b[0m Trial 8 finished with value: 2.455971238567075 and parameters: {'n_estimators': 12, 'max_depth': 19, 'min_samples_split': 10, 'min_samples_leaf': 4}. Best is trial 2 with value: 2.449827329704216.\u001b[0m\n",
      "\u001b[32m[I 2023-05-30 15:48:11,647]\u001b[0m Trial 9 finished with value: 2.486106021576535 and parameters: {'n_estimators': 22, 'max_depth': 2, 'min_samples_split': 8, 'min_samples_leaf': 2}. Best is trial 2 with value: 2.449827329704216.\u001b[0m\n"
     ]
    }
   ],
   "source": [
    "!python hpo.py --data_path ./output"
   ]
  },
  {
   "attachments": {},
   "cell_type": "markdown",
   "metadata": {},
   "source": [
    "What's the best validation RMSE that you got? Lower values of RMSE indicate better fit."
   ]
  },
  {
   "attachments": {},
   "cell_type": "markdown",
   "metadata": {},
   "source": [
    "## Q5. Promote the best model to the model registry"
   ]
  },
  {
   "cell_type": "code",
   "execution_count": 55,
   "metadata": {},
   "outputs": [
    {
     "name": "stdout",
     "output_type": "stream",
     "text": [
      "2023/05/30 18:06:00 WARNING mlflow.utils.autologging_utils: MLflow autologging encountered a warning: \"/Users/boisalai/miniconda3/envs/mlops-zoomcamp-env/lib/python3.9/site-packages/_distutils_hack/__init__.py:33: UserWarning: Setuptools is replacing distutils.\"\n",
      "best_runs=[<Run: data=<RunData: metrics={'test_rmse': 2.2854691906481364,\n",
      " 'training_mean_absolute_error': 1.4410764513945242,\n",
      " 'training_mean_squared_error': 3.948112551107436,\n",
      " 'training_r2_score': 0.26013767483835504,\n",
      " 'training_root_mean_squared_error': 1.9869857953964936,\n",
      " 'training_score': 0.26013767483835504,\n",
      " 'val_rmse': 2.449827329704216}, params={'bootstrap': 'True',\n",
      " 'ccp_alpha': '0.0',\n",
      " 'criterion': 'squared_error',\n",
      " 'max_depth': '15',\n",
      " 'max_features': '1.0',\n",
      " 'max_leaf_nodes': 'None',\n",
      " 'max_samples': 'None',\n",
      " 'min_impurity_decrease': '0.0',\n",
      " 'min_samples_leaf': '4',\n",
      " 'min_samples_split': '2',\n",
      " 'min_weight_fraction_leaf': '0.0',\n",
      " 'n_estimators': '34',\n",
      " 'n_jobs': '-1',\n",
      " 'oob_score': 'False',\n",
      " 'random_state': '42',\n",
      " 'verbose': '0',\n",
      " 'warm_start': 'False'}, tags={'estimator_class': 'sklearn.ensemble._forest.RandomForestRegressor',\n",
      " 'estimator_name': 'RandomForestRegressor',\n",
      " 'mlflow.log-model.history': '[{\"run_id\": \"2261c8d3cebf49009616b49a36c38b2c\", '\n",
      "                             '\"artifact_path\": \"model\", \"utc_time_created\": '\n",
      "                             '\"2023-05-30 22:05:59.309051\", \"flavors\": '\n",
      "                             '{\"python_function\": {\"model_path\": \"model.pkl\", '\n",
      "                             '\"predict_fn\": \"predict\", \"loader_module\": '\n",
      "                             '\"mlflow.sklearn\", \"python_version\": \"3.9.16\", '\n",
      "                             '\"env\": {\"conda\": \"conda.yaml\", \"virtualenv\": '\n",
      "                             '\"python_env.yaml\"}}, \"sklearn\": '\n",
      "                             '{\"pickled_model\": \"model.pkl\", '\n",
      "                             '\"sklearn_version\": \"1.2.2\", '\n",
      "                             '\"serialization_format\": \"cloudpickle\", \"code\": '\n",
      "                             'null}}, \"model_uuid\": '\n",
      "                             '\"9a4f2e78bb484e0a9d036380477fef20\", '\n",
      "                             '\"mlflow_version\": \"2.3.2\", \"signature\": '\n",
      "                             '{\"inputs\": \"[{\\\\\"type\\\\\": \\\\\"tensor\\\\\", '\n",
      "                             '\\\\\"tensor-spec\\\\\": {\\\\\"dtype\\\\\": \\\\\"float64\\\\\", '\n",
      "                             '\\\\\"shape\\\\\": [-1, 6683]}}]\", \"outputs\": '\n",
      "                             '\"[{\\\\\"type\\\\\": \\\\\"tensor\\\\\", \\\\\"tensor-spec\\\\\": '\n",
      "                             '{\\\\\"dtype\\\\\": \\\\\"float64\\\\\", \\\\\"shape\\\\\": '\n",
      "                             '[-1]}}]\"}}]',\n",
      " 'mlflow.runName': 'calm-ray-61',\n",
      " 'mlflow.source.git.commit': 'db23b973757fca46f5fdcd74f51dbd54ac7778c7',\n",
      " 'mlflow.source.name': 'register_model.py',\n",
      " 'mlflow.source.type': 'LOCAL',\n",
      " 'mlflow.user': 'boisalai'}>, info=<RunInfo: artifact_uri='mlflow-artifacts:/2/2261c8d3cebf49009616b49a36c38b2c/artifacts', end_time=1685484360846, experiment_id='2', lifecycle_stage='active', run_id='2261c8d3cebf49009616b49a36c38b2c', run_name='calm-ray-61', run_uuid='2261c8d3cebf49009616b49a36c38b2c', start_time=1685484358820, status='FINISHED', user_id='boisalai'>>, <Run: data=<RunData: metrics={'test_rmse': 2.2854691906481364,\n",
      " 'training_mean_absolute_error': 1.4410764513945242,\n",
      " 'training_mean_squared_error': 3.948112551107436,\n",
      " 'training_r2_score': 0.26013767483835504,\n",
      " 'training_root_mean_squared_error': 1.9869857953964936,\n",
      " 'training_score': 0.26013767483835504,\n",
      " 'val_rmse': 2.449827329704216}, params={'bootstrap': 'True',\n",
      " 'ccp_alpha': '0.0',\n",
      " 'criterion': 'squared_error',\n",
      " 'max_depth': '15',\n",
      " 'max_features': '1.0',\n",
      " 'max_leaf_nodes': 'None',\n",
      " 'max_samples': 'None',\n",
      " 'min_impurity_decrease': '0.0',\n",
      " 'min_samples_leaf': '4',\n",
      " 'min_samples_split': '2',\n",
      " 'min_weight_fraction_leaf': '0.0',\n",
      " 'n_estimators': '34',\n",
      " 'n_jobs': '-1',\n",
      " 'oob_score': 'False',\n",
      " 'random_state': '42',\n",
      " 'verbose': '0',\n",
      " 'warm_start': 'False'}, tags={'estimator_class': 'sklearn.ensemble._forest.RandomForestRegressor',\n",
      " 'estimator_name': 'RandomForestRegressor',\n",
      " 'mlflow.log-model.history': '[{\"run_id\": \"10c0cc7ec7dc444497189769f0735d2f\", '\n",
      "                             '\"artifact_path\": \"model\", \"utc_time_created\": '\n",
      "                             '\"2023-05-30 22:05:30.403817\", \"flavors\": '\n",
      "                             '{\"python_function\": {\"model_path\": \"model.pkl\", '\n",
      "                             '\"predict_fn\": \"predict\", \"loader_module\": '\n",
      "                             '\"mlflow.sklearn\", \"python_version\": \"3.9.16\", '\n",
      "                             '\"env\": {\"conda\": \"conda.yaml\", \"virtualenv\": '\n",
      "                             '\"python_env.yaml\"}}, \"sklearn\": '\n",
      "                             '{\"pickled_model\": \"model.pkl\", '\n",
      "                             '\"sklearn_version\": \"1.2.2\", '\n",
      "                             '\"serialization_format\": \"cloudpickle\", \"code\": '\n",
      "                             'null}}, \"model_uuid\": '\n",
      "                             '\"13979ab20ff14df19d008d2a91d6e783\", '\n",
      "                             '\"mlflow_version\": \"2.3.2\", \"signature\": '\n",
      "                             '{\"inputs\": \"[{\\\\\"type\\\\\": \\\\\"tensor\\\\\", '\n",
      "                             '\\\\\"tensor-spec\\\\\": {\\\\\"dtype\\\\\": \\\\\"float64\\\\\", '\n",
      "                             '\\\\\"shape\\\\\": [-1, 6683]}}]\", \"outputs\": '\n",
      "                             '\"[{\\\\\"type\\\\\": \\\\\"tensor\\\\\", \\\\\"tensor-spec\\\\\": '\n",
      "                             '{\\\\\"dtype\\\\\": \\\\\"float64\\\\\", \\\\\"shape\\\\\": '\n",
      "                             '[-1]}}]\"}}]',\n",
      " 'mlflow.runName': 'rare-zebra-112',\n",
      " 'mlflow.source.git.commit': 'db23b973757fca46f5fdcd74f51dbd54ac7778c7',\n",
      " 'mlflow.source.name': 'register_model.py',\n",
      " 'mlflow.source.type': 'LOCAL',\n",
      " 'mlflow.user': 'boisalai'}>, info=<RunInfo: artifact_uri='mlflow-artifacts:/2/10c0cc7ec7dc444497189769f0735d2f/artifacts', end_time=1685484331841, experiment_id='2', lifecycle_stage='active', run_id='10c0cc7ec7dc444497189769f0735d2f', run_name='rare-zebra-112', run_uuid='10c0cc7ec7dc444497189769f0735d2f', start_time=1685484329899, status='FINISHED', user_id='boisalai'>>, <Run: data=<RunData: metrics={'test_rmse': 2.2854691906481364,\n",
      " 'training_mean_absolute_error': 1.4410764513945242,\n",
      " 'training_mean_squared_error': 3.948112551107436,\n",
      " 'training_r2_score': 0.26013767483835504,\n",
      " 'training_root_mean_squared_error': 1.9869857953964936,\n",
      " 'training_score': 0.26013767483835504,\n",
      " 'val_rmse': 2.449827329704216}, params={'bootstrap': 'True',\n",
      " 'ccp_alpha': '0.0',\n",
      " 'criterion': 'squared_error',\n",
      " 'max_depth': '15',\n",
      " 'max_features': '1.0',\n",
      " 'max_leaf_nodes': 'None',\n",
      " 'max_samples': 'None',\n",
      " 'min_impurity_decrease': '0.0',\n",
      " 'min_samples_leaf': '4',\n",
      " 'min_samples_split': '2',\n",
      " 'min_weight_fraction_leaf': '0.0',\n",
      " 'n_estimators': '34',\n",
      " 'n_jobs': '-1',\n",
      " 'oob_score': 'False',\n",
      " 'random_state': '42',\n",
      " 'verbose': '0',\n",
      " 'warm_start': 'False'}, tags={'estimator_class': 'sklearn.ensemble._forest.RandomForestRegressor',\n",
      " 'estimator_name': 'RandomForestRegressor',\n",
      " 'mlflow.log-model.history': '[{\"run_id\": \"cebddda2bb9245e0b5190226d599db3d\", '\n",
      "                             '\"artifact_path\": \"model\", \"utc_time_created\": '\n",
      "                             '\"2023-05-30 21:57:34.318581\", \"flavors\": '\n",
      "                             '{\"python_function\": {\"model_path\": \"model.pkl\", '\n",
      "                             '\"predict_fn\": \"predict\", \"loader_module\": '\n",
      "                             '\"mlflow.sklearn\", \"python_version\": \"3.9.16\", '\n",
      "                             '\"env\": {\"conda\": \"conda.yaml\", \"virtualenv\": '\n",
      "                             '\"python_env.yaml\"}}, \"sklearn\": '\n",
      "                             '{\"pickled_model\": \"model.pkl\", '\n",
      "                             '\"sklearn_version\": \"1.2.2\", '\n",
      "                             '\"serialization_format\": \"cloudpickle\", \"code\": '\n",
      "                             'null}}, \"model_uuid\": '\n",
      "                             '\"825bca33674f4f0ba90c400d5fa04a43\", '\n",
      "                             '\"mlflow_version\": \"2.3.2\", \"signature\": '\n",
      "                             '{\"inputs\": \"[{\\\\\"type\\\\\": \\\\\"tensor\\\\\", '\n",
      "                             '\\\\\"tensor-spec\\\\\": {\\\\\"dtype\\\\\": \\\\\"float64\\\\\", '\n",
      "                             '\\\\\"shape\\\\\": [-1, 6683]}}]\", \"outputs\": '\n",
      "                             '\"[{\\\\\"type\\\\\": \\\\\"tensor\\\\\", \\\\\"tensor-spec\\\\\": '\n",
      "                             '{\\\\\"dtype\\\\\": \\\\\"float64\\\\\", \\\\\"shape\\\\\": '\n",
      "                             '[-1]}}]\"}}]',\n",
      " 'mlflow.runName': 'nimble-crow-410',\n",
      " 'mlflow.source.git.commit': 'db23b973757fca46f5fdcd74f51dbd54ac7778c7',\n",
      " 'mlflow.source.name': 'register_model.py',\n",
      " 'mlflow.source.type': 'LOCAL',\n",
      " 'mlflow.user': 'boisalai'}>, info=<RunInfo: artifact_uri='mlflow-artifacts:/2/cebddda2bb9245e0b5190226d599db3d/artifacts', end_time=1685483855809, experiment_id='2', lifecycle_stage='active', run_id='cebddda2bb9245e0b5190226d599db3d', run_name='nimble-crow-410', run_uuid='cebddda2bb9245e0b5190226d599db3d', start_time=1685483853802, status='FINISHED', user_id='boisalai'>>, <Run: data=<RunData: metrics={'test_rmse': 2.2854691906481364,\n",
      " 'training_mean_absolute_error': 1.4410764513945242,\n",
      " 'training_mean_squared_error': 3.948112551107436,\n",
      " 'training_r2_score': 0.26013767483835504,\n",
      " 'training_root_mean_squared_error': 1.9869857953964936,\n",
      " 'training_score': 0.26013767483835504,\n",
      " 'val_rmse': 2.449827329704216}, params={'bootstrap': 'True',\n",
      " 'ccp_alpha': '0.0',\n",
      " 'criterion': 'squared_error',\n",
      " 'max_depth': '15',\n",
      " 'max_features': '1.0',\n",
      " 'max_leaf_nodes': 'None',\n",
      " 'max_samples': 'None',\n",
      " 'min_impurity_decrease': '0.0',\n",
      " 'min_samples_leaf': '4',\n",
      " 'min_samples_split': '2',\n",
      " 'min_weight_fraction_leaf': '0.0',\n",
      " 'n_estimators': '34',\n",
      " 'n_jobs': '-1',\n",
      " 'oob_score': 'False',\n",
      " 'random_state': '42',\n",
      " 'verbose': '0',\n",
      " 'warm_start': 'False'}, tags={'estimator_class': 'sklearn.ensemble._forest.RandomForestRegressor',\n",
      " 'estimator_name': 'RandomForestRegressor',\n",
      " 'mlflow.log-model.history': '[{\"run_id\": \"ba8c60696d10452e848167206b95cd05\", '\n",
      "                             '\"artifact_path\": \"model\", \"utc_time_created\": '\n",
      "                             '\"2023-05-30 21:57:06.404341\", \"flavors\": '\n",
      "                             '{\"python_function\": {\"model_path\": \"model.pkl\", '\n",
      "                             '\"predict_fn\": \"predict\", \"loader_module\": '\n",
      "                             '\"mlflow.sklearn\", \"python_version\": \"3.9.16\", '\n",
      "                             '\"env\": {\"conda\": \"conda.yaml\", \"virtualenv\": '\n",
      "                             '\"python_env.yaml\"}}, \"sklearn\": '\n",
      "                             '{\"pickled_model\": \"model.pkl\", '\n",
      "                             '\"sklearn_version\": \"1.2.2\", '\n",
      "                             '\"serialization_format\": \"cloudpickle\", \"code\": '\n",
      "                             'null}}, \"model_uuid\": '\n",
      "                             '\"d244b583137141aa92733f3e5207915c\", '\n",
      "                             '\"mlflow_version\": \"2.3.2\", \"signature\": '\n",
      "                             '{\"inputs\": \"[{\\\\\"type\\\\\": \\\\\"tensor\\\\\", '\n",
      "                             '\\\\\"tensor-spec\\\\\": {\\\\\"dtype\\\\\": \\\\\"float64\\\\\", '\n",
      "                             '\\\\\"shape\\\\\": [-1, 6683]}}]\", \"outputs\": '\n",
      "                             '\"[{\\\\\"type\\\\\": \\\\\"tensor\\\\\", \\\\\"tensor-spec\\\\\": '\n",
      "                             '{\\\\\"dtype\\\\\": \\\\\"float64\\\\\", \\\\\"shape\\\\\": '\n",
      "                             '[-1]}}]\"}}]',\n",
      " 'mlflow.runName': 'colorful-wolf-57',\n",
      " 'mlflow.source.git.commit': 'db23b973757fca46f5fdcd74f51dbd54ac7778c7',\n",
      " 'mlflow.source.name': 'register_model.py',\n",
      " 'mlflow.source.type': 'LOCAL',\n",
      " 'mlflow.user': 'boisalai'}>, info=<RunInfo: artifact_uri='mlflow-artifacts:/2/ba8c60696d10452e848167206b95cd05/artifacts', end_time=1685483827858, experiment_id='2', lifecycle_stage='active', run_id='ba8c60696d10452e848167206b95cd05', run_name='colorful-wolf-57', run_uuid='ba8c60696d10452e848167206b95cd05', start_time=1685483825911, status='FINISHED', user_id='boisalai'>>, <Run: data=<RunData: metrics={'test_rmse': 2.2854691906481364,\n",
      " 'training_mean_absolute_error': 1.4410764513945242,\n",
      " 'training_mean_squared_error': 3.948112551107436,\n",
      " 'training_r2_score': 0.26013767483835504,\n",
      " 'training_root_mean_squared_error': 1.9869857953964936,\n",
      " 'training_score': 0.26013767483835504,\n",
      " 'val_rmse': 2.449827329704216}, params={'bootstrap': 'True',\n",
      " 'ccp_alpha': '0.0',\n",
      " 'criterion': 'squared_error',\n",
      " 'max_depth': '15',\n",
      " 'max_features': '1.0',\n",
      " 'max_leaf_nodes': 'None',\n",
      " 'max_samples': 'None',\n",
      " 'min_impurity_decrease': '0.0',\n",
      " 'min_samples_leaf': '4',\n",
      " 'min_samples_split': '2',\n",
      " 'min_weight_fraction_leaf': '0.0',\n",
      " 'n_estimators': '34',\n",
      " 'n_jobs': '-1',\n",
      " 'oob_score': 'False',\n",
      " 'random_state': '42',\n",
      " 'verbose': '0',\n",
      " 'warm_start': 'False'}, tags={'estimator_class': 'sklearn.ensemble._forest.RandomForestRegressor',\n",
      " 'estimator_name': 'RandomForestRegressor',\n",
      " 'mlflow.log-model.history': '[{\"run_id\": \"0bb067e2555e4ed6808b7c43988aac0a\", '\n",
      "                             '\"artifact_path\": \"model\", \"utc_time_created\": '\n",
      "                             '\"2023-05-30 20:20:47.627077\", \"flavors\": '\n",
      "                             '{\"python_function\": {\"model_path\": \"model.pkl\", '\n",
      "                             '\"predict_fn\": \"predict\", \"loader_module\": '\n",
      "                             '\"mlflow.sklearn\", \"python_version\": \"3.9.16\", '\n",
      "                             '\"env\": {\"conda\": \"conda.yaml\", \"virtualenv\": '\n",
      "                             '\"python_env.yaml\"}}, \"sklearn\": '\n",
      "                             '{\"pickled_model\": \"model.pkl\", '\n",
      "                             '\"sklearn_version\": \"1.2.2\", '\n",
      "                             '\"serialization_format\": \"cloudpickle\", \"code\": '\n",
      "                             'null}}, \"model_uuid\": '\n",
      "                             '\"e85e501c00dd4f898664744868b57ec7\", '\n",
      "                             '\"mlflow_version\": \"2.3.2\", \"signature\": '\n",
      "                             '{\"inputs\": \"[{\\\\\"type\\\\\": \\\\\"tensor\\\\\", '\n",
      "                             '\\\\\"tensor-spec\\\\\": {\\\\\"dtype\\\\\": \\\\\"float64\\\\\", '\n",
      "                             '\\\\\"shape\\\\\": [-1, 6683]}}]\", \"outputs\": '\n",
      "                             '\"[{\\\\\"type\\\\\": \\\\\"tensor\\\\\", \\\\\"tensor-spec\\\\\": '\n",
      "                             '{\\\\\"dtype\\\\\": \\\\\"float64\\\\\", \\\\\"shape\\\\\": '\n",
      "                             '[-1]}}]\"}}]',\n",
      " 'mlflow.runName': 'abrasive-loon-964',\n",
      " 'mlflow.source.git.commit': 'db23b973757fca46f5fdcd74f51dbd54ac7778c7',\n",
      " 'mlflow.source.name': 'register_model.py',\n",
      " 'mlflow.source.type': 'LOCAL',\n",
      " 'mlflow.user': 'boisalai'}>, info=<RunInfo: artifact_uri='mlflow-artifacts:/2/0bb067e2555e4ed6808b7c43988aac0a/artifacts', end_time=1685478049108, experiment_id='2', lifecycle_stage='active', run_id='0bb067e2555e4ed6808b7c43988aac0a', run_name='abrasive-loon-964', run_uuid='0bb067e2555e4ed6808b7c43988aac0a', start_time=1685478047105, status='FINISHED', user_id='boisalai'>>]\n",
      "best_run id: 2261c8d3cebf49009616b49a36c38b2c, rmse: 2.2855\n",
      "Registered model 'random-forest-best-models' already exists. Creating a new version of this model...\n",
      "2023/05/30 18:06:07 INFO mlflow.tracking._model_registry.client: Waiting up to 300 seconds for model version to finish creation. Model name: random-forest-best-models, version 2\n",
      "Created version '2' of model 'random-forest-best-models'.\n"
     ]
    }
   ],
   "source": [
    "!python register_model.py --data_path ./output "
   ]
  },
  {
   "attachments": {},
   "cell_type": "markdown",
   "metadata": {},
   "source": [
    "## Q6. Model metadata\n",
    "\n"
   ]
  }
 ],
 "metadata": {
  "kernelspec": {
   "display_name": "Python 3",
   "language": "python",
   "name": "python3"
  },
  "language_info": {
   "codemirror_mode": {
    "name": "ipython",
    "version": 3
   },
   "file_extension": ".py",
   "mimetype": "text/x-python",
   "name": "python",
   "nbconvert_exporter": "python",
   "pygments_lexer": "ipython3",
   "version": "3.9.16"
  },
  "orig_nbformat": 4
 },
 "nbformat": 4,
 "nbformat_minor": 2
}
